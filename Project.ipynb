{
 "cells": [
  {
   "cell_type": "markdown",
   "id": "c537c8ea-b58e-455c-be20-49c96e9c66d6",
   "metadata": {},
   "source": [
    "# STATS 765 Project Milestone 2 -- Car Crash\n",
    "Neil He qhe497"
   ]
  },
  {
   "cell_type": "markdown",
   "id": "414f54b0-c94d-4d8b-aa0b-3e924b045e7d",
   "metadata": {},
   "source": [
    "## 1. Goal"
   ]
  },
  {
   "cell_type": "markdown",
   "id": "ee4516e3-1f83-4ad2-b4f6-57432391a823",
   "metadata": {},
   "source": [
    "The main idea for our project is to find out what are the key factors that cause car crashes in New Zealand and what cause the different level of crashes."
   ]
  },
  {
   "cell_type": "markdown",
   "id": "fbd509a0-1b42-404e-8f7d-bbf5f8ca9d63",
   "metadata": {},
   "source": [
    "## 2. Data Source "
   ]
  },
  {
   "cell_type": "markdown",
   "id": "2518de70-54d2-4bea-b829-604def2c212a",
   "metadata": {},
   "source": [
    "We get all the data we need from the NZ Transport Agency Open Data Port. On the website, we can find out that five results show up. We only need the Crash Analysis System(CAS) to do the rest of our task. The data can be downloaded as CSV, KML, Shapefile, and GeoJSON format, but we need a CSV file that will be good to go. The file we got is named Crash_Analysis_System_(CAS)_data.csv, which is a terrible name for programming. Thus, we change it to crash_data.csv.<br>\n",
    "\n",
    "As a result, we have 72 attributes in the dataset, and we will not use all of them. Thus, we decide to drop some of those, and some contain missing values. If those columns are not necessary or related to our goal, we will settle them, but on the other hand, if columns are going to affect our result and contain missing values, we need to fill them.<br>\n",
    "\n",
    "All the data we retrieved in Appendix 1.1\n",
    "\n"
   ]
  },
  {
   "cell_type": "markdown",
   "id": "d1532a34-7a8e-4450-9dc7-a0fdee98c07a",
   "metadata": {},
   "source": [
    "## 3.Data Processing"
   ]
  },
  {
   "cell_type": "markdown",
   "id": "266fc37b-62ae-4b91-8eb2-3bf14c4b7e00",
   "metadata": {},
   "source": [
    "The mean idea is to choose those columns that we only need to use for analysis. Here we can see after tidying the dataset. We only have 13 essential attributes left. Here is a quick view of the dataset I modified and named as df2. The full code will be in Appendix 1.2"
   ]
  },
  {
   "cell_type": "code",
   "execution_count": 49,
   "id": "d4dd87af-221d-4762-8571-d19338f1be3a",
   "metadata": {},
   "outputs": [
    {
     "data": {
      "text/html": [
       "<table>\n",
       "<thead><tr><th scope=col>OBJECTID</th><th scope=col>crashDirectionDescription</th><th scope=col>crashLocation1</th><th scope=col>crashLocation2</th><th scope=col>crashSeverity</th><th scope=col>minorInjuryCount</th><th scope=col>crashYear</th><th scope=col>directionRoleDescription</th><th scope=col>light</th><th scope=col>region</th><th scope=col>speedLimit</th><th scope=col>roadLane</th><th scope=col>weatherA</th></tr></thead>\n",
       "<tbody>\n",
       "\t<tr><td>1                  </td><td>Null               </td><td>EAST ST            </td><td>ELLIOT ST          </td><td>Non-Injury Crash   </td><td>0                  </td><td>2007               </td><td>North              </td><td>Dark               </td><td>Auckland Region    </td><td>50                 </td><td>2-way              </td><td>Fine               </td></tr>\n",
       "\t<tr><td>3                  </td><td>Null               </td><td>SH 2               </td><td>SH 26              </td><td>Non-Injury Crash   </td><td>0                  </td><td>2003               </td><td>North              </td><td>Dark               </td><td>Waikato Region     </td><td>50                 </td><td>2-way              </td><td>Fine               </td></tr>\n",
       "\t<tr><td>4                  </td><td>West               </td><td>CHURCH ST          </td><td>HUGO JOHNSTON DRIVE</td><td>Non-Injury Crash   </td><td>0                  </td><td>2010               </td><td>East               </td><td>Bright sun         </td><td>Auckland Region    </td><td>50                 </td><td>2-way              </td><td>Fine               </td></tr>\n",
       "\t<tr><td>6                  </td><td>Null               </td><td>THE AVENUE         </td><td>ACCESSWAY          </td><td>Minor Crash        </td><td>1                  </td><td>2017               </td><td>North              </td><td>Overcast           </td><td>Auckland Region    </td><td>50                 </td><td>2-way              </td><td>Light rain         </td></tr>\n",
       "\t<tr><td>7                  </td><td>Null               </td><td>PENROSE INT        </td><td>GT SOUTH LINK      </td><td>Non-Injury Crash   </td><td>0                  </td><td>2018               </td><td>North              </td><td>Overcast           </td><td>Auckland Region    </td><td>50                 </td><td>1-way              </td><td>Fine               </td></tr>\n",
       "\t<tr><td>9                  </td><td>North              </td><td>KNIGHTON ROAD      </td><td>HELENA ROAD        </td><td>Minor Crash        </td><td>1                  </td><td>2010               </td><td>South              </td><td>Overcast           </td><td>Waikato Region     </td><td>50                 </td><td>2-way              </td><td>Fine               </td></tr>\n",
       "</tbody>\n",
       "</table>\n"
      ],
      "text/latex": [
       "\\begin{tabular}{r|lllllllllllll}\n",
       " OBJECTID & crashDirectionDescription & crashLocation1 & crashLocation2 & crashSeverity & minorInjuryCount & crashYear & directionRoleDescription & light & region & speedLimit & roadLane & weatherA\\\\\n",
       "\\hline\n",
       "\t 1                   & Null                & EAST ST             & ELLIOT ST           & Non-Injury Crash    & 0                   & 2007                & North               & Dark                & Auckland Region     & 50                  & 2-way               & Fine               \\\\\n",
       "\t 3                   & Null                & SH 2                & SH 26               & Non-Injury Crash    & 0                   & 2003                & North               & Dark                & Waikato Region      & 50                  & 2-way               & Fine               \\\\\n",
       "\t 4                   & West                & CHURCH ST           & HUGO JOHNSTON DRIVE & Non-Injury Crash    & 0                   & 2010                & East                & Bright sun          & Auckland Region     & 50                  & 2-way               & Fine               \\\\\n",
       "\t 6                   & Null                & THE AVENUE          & ACCESSWAY           & Minor Crash         & 1                   & 2017                & North               & Overcast            & Auckland Region     & 50                  & 2-way               & Light rain         \\\\\n",
       "\t 7                   & Null                & PENROSE INT         & GT SOUTH LINK       & Non-Injury Crash    & 0                   & 2018                & North               & Overcast            & Auckland Region     & 50                  & 1-way               & Fine               \\\\\n",
       "\t 9                   & North               & KNIGHTON ROAD       & HELENA ROAD         & Minor Crash         & 1                   & 2010                & South               & Overcast            & Waikato Region      & 50                  & 2-way               & Fine               \\\\\n",
       "\\end{tabular}\n"
      ],
      "text/markdown": [
       "\n",
       "| OBJECTID | crashDirectionDescription | crashLocation1 | crashLocation2 | crashSeverity | minorInjuryCount | crashYear | directionRoleDescription | light | region | speedLimit | roadLane | weatherA |\n",
       "|---|---|---|---|---|---|---|---|---|---|---|---|---|\n",
       "| 1                   | Null                | EAST ST             | ELLIOT ST           | Non-Injury Crash    | 0                   | 2007                | North               | Dark                | Auckland Region     | 50                  | 2-way               | Fine                |\n",
       "| 3                   | Null                | SH 2                | SH 26               | Non-Injury Crash    | 0                   | 2003                | North               | Dark                | Waikato Region      | 50                  | 2-way               | Fine                |\n",
       "| 4                   | West                | CHURCH ST           | HUGO JOHNSTON DRIVE | Non-Injury Crash    | 0                   | 2010                | East                | Bright sun          | Auckland Region     | 50                  | 2-way               | Fine                |\n",
       "| 6                   | Null                | THE AVENUE          | ACCESSWAY           | Minor Crash         | 1                   | 2017                | North               | Overcast            | Auckland Region     | 50                  | 2-way               | Light rain          |\n",
       "| 7                   | Null                | PENROSE INT         | GT SOUTH LINK       | Non-Injury Crash    | 0                   | 2018                | North               | Overcast            | Auckland Region     | 50                  | 1-way               | Fine                |\n",
       "| 9                   | North               | KNIGHTON ROAD       | HELENA ROAD         | Minor Crash         | 1                   | 2010                | South               | Overcast            | Waikato Region      | 50                  | 2-way               | Fine                |\n",
       "\n"
      ],
      "text/plain": [
       "  OBJECTID crashDirectionDescription crashLocation1 crashLocation2     \n",
       "1 1        Null                      EAST ST        ELLIOT ST          \n",
       "2 3        Null                      SH 2           SH 26              \n",
       "3 4        West                      CHURCH ST      HUGO JOHNSTON DRIVE\n",
       "4 6        Null                      THE AVENUE     ACCESSWAY          \n",
       "5 7        Null                      PENROSE INT    GT SOUTH LINK      \n",
       "6 9        North                     KNIGHTON ROAD  HELENA ROAD        \n",
       "  crashSeverity    minorInjuryCount crashYear directionRoleDescription\n",
       "1 Non-Injury Crash 0                2007      North                   \n",
       "2 Non-Injury Crash 0                2003      North                   \n",
       "3 Non-Injury Crash 0                2010      East                    \n",
       "4 Minor Crash      1                2017      North                   \n",
       "5 Non-Injury Crash 0                2018      North                   \n",
       "6 Minor Crash      1                2010      South                   \n",
       "  light      region          speedLimit roadLane weatherA  \n",
       "1 Dark       Auckland Region 50         2-way    Fine      \n",
       "2 Dark       Waikato Region  50         2-way    Fine      \n",
       "3 Bright sun Auckland Region 50         2-way    Fine      \n",
       "4 Overcast   Auckland Region 50         2-way    Light rain\n",
       "5 Overcast   Auckland Region 50         1-way    Fine      \n",
       "6 Overcast   Waikato Region  50         2-way    Fine      "
      ]
     },
     "metadata": {},
     "output_type": "display_data"
    }
   ],
   "source": [
    "head(df2)"
   ]
  },
  {
   "cell_type": "code",
   "execution_count": 53,
   "id": "59b404a2-d81e-44c1-9040-067bf94f7dfe",
   "metadata": {},
   "outputs": [
    {
     "data": {
      "text/html": [
       "13"
      ],
      "text/latex": [
       "13"
      ],
      "text/markdown": [
       "13"
      ],
      "text/plain": [
       "[1] 13"
      ]
     },
     "metadata": {},
     "output_type": "display_data"
    },
    {
     "data": {
      "text/html": [
       "72"
      ],
      "text/latex": [
       "72"
      ],
      "text/markdown": [
       "72"
      ],
      "text/plain": [
       "[1] 72"
      ]
     },
     "metadata": {},
     "output_type": "display_data"
    }
   ],
   "source": [
    "length(names(df2)) # number of attributes in the modified dataset\n",
    "length(names(df)) # number of attributes in the orignial dataset"
   ]
  },
  {
   "cell_type": "markdown",
   "id": "d19802bb-2812-4ea1-b7f7-8610c65d6228",
   "metadata": {},
   "source": [
    "Here we got the dataset we need for the next step. However, there is still some missing value in it. Thus, we need to find a way to impute them. And this is how its looks like. For the region, we can't do anything more, so we just use filter to select those not equal to NA."
   ]
  },
  {
   "cell_type": "code",
   "execution_count": 106,
   "id": "d4b70226-3296-4786-8a57-b50bde91ec7c",
   "metadata": {},
   "outputs": [
    {
     "data": {
      "text/html": [
       "<dl class=dl-horizontal>\n",
       "\t<dt>OBJECTID</dt>\n",
       "\t\t<dd>0</dd>\n",
       "\t<dt>crashDirectionDescription</dt>\n",
       "\t\t<dd>0</dd>\n",
       "\t<dt>crashLocation1</dt>\n",
       "\t\t<dd>0</dd>\n",
       "\t<dt>crashLocation2</dt>\n",
       "\t\t<dd>921</dd>\n",
       "\t<dt>crashSeverity</dt>\n",
       "\t\t<dd>0</dd>\n",
       "\t<dt>minorInjuryCount</dt>\n",
       "\t\t<dd>136</dd>\n",
       "\t<dt>crashYear</dt>\n",
       "\t\t<dd>0</dd>\n",
       "\t<dt>directionRoleDescription</dt>\n",
       "\t\t<dd>79</dd>\n",
       "\t<dt>light</dt>\n",
       "\t\t<dd>0</dd>\n",
       "\t<dt>region</dt>\n",
       "\t\t<dd>3026</dd>\n",
       "\t<dt>speedLimit</dt>\n",
       "\t\t<dd>555</dd>\n",
       "\t<dt>roadLane</dt>\n",
       "\t\t<dd>0</dd>\n",
       "\t<dt>weatherA</dt>\n",
       "\t\t<dd>0</dd>\n",
       "</dl>\n"
      ],
      "text/latex": [
       "\\begin{description*}\n",
       "\\item[OBJECTID] 0\n",
       "\\item[crashDirectionDescription] 0\n",
       "\\item[crashLocation1] 0\n",
       "\\item[crashLocation2] 921\n",
       "\\item[crashSeverity] 0\n",
       "\\item[minorInjuryCount] 136\n",
       "\\item[crashYear] 0\n",
       "\\item[directionRoleDescription] 79\n",
       "\\item[light] 0\n",
       "\\item[region] 3026\n",
       "\\item[speedLimit] 555\n",
       "\\item[roadLane] 0\n",
       "\\item[weatherA] 0\n",
       "\\end{description*}\n"
      ],
      "text/markdown": [
       "OBJECTID\n",
       ":   0crashDirectionDescription\n",
       ":   0crashLocation1\n",
       ":   0crashLocation2\n",
       ":   921crashSeverity\n",
       ":   0minorInjuryCount\n",
       ":   136crashYear\n",
       ":   0directionRoleDescription\n",
       ":   79light\n",
       ":   0region\n",
       ":   3026speedLimit\n",
       ":   555roadLane\n",
       ":   0weatherA\n",
       ":   0\n",
       "\n"
      ],
      "text/plain": [
       "                 OBJECTID crashDirectionDescription            crashLocation1 \n",
       "                        0                         0                         0 \n",
       "           crashLocation2             crashSeverity          minorInjuryCount \n",
       "                      921                         0                       136 \n",
       "                crashYear  directionRoleDescription                     light \n",
       "                        0                        79                         0 \n",
       "                   region                speedLimit                  roadLane \n",
       "                     3026                       555                         0 \n",
       "                 weatherA \n",
       "                        0 "
      ]
     },
     "metadata": {},
     "output_type": "display_data"
    }
   ],
   "source": [
    "colSums(is.na(df2))"
   ]
  },
  {
   "cell_type": "markdown",
   "id": "78c3fa02-8288-4abf-8cb9-c82cc904a31d",
   "metadata": {},
   "source": [
    "After we did some further investigation, we found out that for the missing value in crash location 2, most of them are off the road, but I think we still need to include them. Thus, I use 0 to impute them. We may need to encode all the attributes for modeling in the future, so 0 should be fine.<br>\n",
    "\n",
    "For the minorInjuryCount, we assume NA equal to 0, so we use 0 to impute them. <br>\n",
    "\n",
    "For the directionRoleDescription, I believe is the same as crashLocation2, thus 0 as well. <br>\n",
    "\n",
    "For the speed Limit, I used mean value to do the imputation, which wouldn't effect lots to the result.<br>\n",
    "\n",
    "Here is the final colSum. All the process can be found in Appendix 1.3 and 1.4"
   ]
  },
  {
   "cell_type": "code",
   "execution_count": 107,
   "id": "ae1bedd0-dcb7-49a5-aabc-e23686a9fd25",
   "metadata": {},
   "outputs": [
    {
     "data": {
      "text/html": [
       "<dl class=dl-horizontal>\n",
       "\t<dt>OBJECTID</dt>\n",
       "\t\t<dd>0</dd>\n",
       "\t<dt>crashDirectionDescription</dt>\n",
       "\t\t<dd>0</dd>\n",
       "\t<dt>crashLocation1</dt>\n",
       "\t\t<dd>0</dd>\n",
       "\t<dt>crashLocation2</dt>\n",
       "\t\t<dd>0</dd>\n",
       "\t<dt>crashSeverity</dt>\n",
       "\t\t<dd>0</dd>\n",
       "\t<dt>minorInjuryCount</dt>\n",
       "\t\t<dd>0</dd>\n",
       "\t<dt>crashYear</dt>\n",
       "\t\t<dd>0</dd>\n",
       "\t<dt>directionRoleDescription</dt>\n",
       "\t\t<dd>0</dd>\n",
       "\t<dt>light</dt>\n",
       "\t\t<dd>0</dd>\n",
       "\t<dt>region</dt>\n",
       "\t\t<dd>0</dd>\n",
       "\t<dt>speedLimit</dt>\n",
       "\t\t<dd>0</dd>\n",
       "\t<dt>roadLane</dt>\n",
       "\t\t<dd>0</dd>\n",
       "\t<dt>weatherA</dt>\n",
       "\t\t<dd>0</dd>\n",
       "</dl>\n"
      ],
      "text/latex": [
       "\\begin{description*}\n",
       "\\item[OBJECTID] 0\n",
       "\\item[crashDirectionDescription] 0\n",
       "\\item[crashLocation1] 0\n",
       "\\item[crashLocation2] 0\n",
       "\\item[crashSeverity] 0\n",
       "\\item[minorInjuryCount] 0\n",
       "\\item[crashYear] 0\n",
       "\\item[directionRoleDescription] 0\n",
       "\\item[light] 0\n",
       "\\item[region] 0\n",
       "\\item[speedLimit] 0\n",
       "\\item[roadLane] 0\n",
       "\\item[weatherA] 0\n",
       "\\end{description*}\n"
      ],
      "text/markdown": [
       "OBJECTID\n",
       ":   0crashDirectionDescription\n",
       ":   0crashLocation1\n",
       ":   0crashLocation2\n",
       ":   0crashSeverity\n",
       ":   0minorInjuryCount\n",
       ":   0crashYear\n",
       ":   0directionRoleDescription\n",
       ":   0light\n",
       ":   0region\n",
       ":   0speedLimit\n",
       ":   0roadLane\n",
       ":   0weatherA\n",
       ":   0\n",
       "\n"
      ],
      "text/plain": [
       "                 OBJECTID crashDirectionDescription            crashLocation1 \n",
       "                        0                         0                         0 \n",
       "           crashLocation2             crashSeverity          minorInjuryCount \n",
       "                        0                         0                         0 \n",
       "                crashYear  directionRoleDescription                     light \n",
       "                        0                         0                         0 \n",
       "                   region                speedLimit                  roadLane \n",
       "                        0                         0                         0 \n",
       "                 weatherA \n",
       "                        0 "
      ]
     },
     "metadata": {},
     "output_type": "display_data"
    }
   ],
   "source": [
    "colSums(is.na(df3))"
   ]
  },
  {
   "cell_type": "markdown",
   "id": "9835fcab-d117-45bf-8a67-025efde52376",
   "metadata": {},
   "source": [
    "## 4 Data Exploration"
   ]
  },
  {
   "cell_type": "markdown",
   "id": "3ade0586-ee6b-482d-99e7-4eb8a0108b06",
   "metadata": {},
   "source": [
    "This table shows the different types of crashes in all of New Zealand. And we also showed, with different region how is the crashes distributed."
   ]
  },
  {
   "cell_type": "code",
   "execution_count": 108,
   "id": "53120916-5ed3-4c51-9a7f-d614c979c1c9",
   "metadata": {},
   "outputs": [
    {
     "data": {
      "text/plain": [
       "\n",
       "     Fatal Crash      Minor Crash Non-Injury Crash    Serious Crash \n",
       "            7101           178417           544570            43764 "
      ]
     },
     "metadata": {},
     "output_type": "display_data"
    }
   ],
   "source": [
    "table(df3$crashSeverity)"
   ]
  },
  {
   "cell_type": "code",
   "execution_count": 120,
   "id": "d6bcd098-0c5a-4502-ad47-63815d57e30c",
   "metadata": {},
   "outputs": [
    {
     "data": {
      "image/png": "[encoded data removed]",
      "text/plain": [
       "plot without title"
      ]
     },
     "metadata": {
      "image/png": {
       "height": 420,
       "width": 420
      }
     },
     "output_type": "display_data"
    }
   ],
   "source": [
    "ggplot(df3,aes(x=crashSeverity, group = region)) + geom_bar() +  facet_wrap(~region)"
   ]
  },
  {
   "cell_type": "markdown",
   "id": "8620b414-06c8-4bb2-ad59-87b2cf3f4d20",
   "metadata": {},
   "source": [
    "We also want to find out how the sun light effect the result"
   ]
  },
  {
   "cell_type": "code",
   "execution_count": 19,
   "id": "d7dea81f-01fc-42b3-aec8-47115d5a23dc",
   "metadata": {},
   "outputs": [
    {
     "data": {
      "text/plain": [
       "\n",
       "\n",
       "|Var1       |   Freq|\n",
       "|:----------|------:|\n",
       "|Bright sun | 287702|\n",
       "|Dark       | 211188|\n",
       "|Overcast   | 233010|\n",
       "|Twilight   |  36116|\n",
       "|Unknown    |   5836|"
      ]
     },
     "metadata": {},
     "output_type": "display_data"
    }
   ],
   "source": [
    "knitr::kable(table(df3$light))"
   ]
  },
  {
   "cell_type": "code",
   "execution_count": 20,
   "id": "36a73df4-8bd0-4656-be64-17671eb90a10",
   "metadata": {},
   "outputs": [
    {
     "data": {
      "image/png": "[encoded data removed]",
      "text/plain": [
       "plot without title"
      ]
     },
     "metadata": {
      "image/png": {
       "height": 420,
       "width": 420
      }
     },
     "output_type": "display_data"
    }
   ],
   "source": [
    "ggplot(df3,aes(x=crashSeverity, group = region)) + geom_bar() +  facet_wrap(~light)"
   ]
  },
  {
   "cell_type": "markdown",
   "id": "e61fc4e4-3991-43e3-95a1-6feafef8c180",
   "metadata": {},
   "source": [
    "We also want to find out how the weather effect the result"
   ]
  },
  {
   "cell_type": "code",
   "execution_count": 25,
   "id": "a201dd0b-4202-4b6c-8590-abdaee8f0a19",
   "metadata": {},
   "outputs": [
    {
     "data": {
      "text/plain": [
       "\n",
       "\n",
       "|Var1          |   Freq|\n",
       "|:-------------|------:|\n",
       "|Fine          | 600355|\n",
       "|Hail or Sleet |     89|\n",
       "|Heavy rain    |  31223|\n",
       "|Light rain    | 116889|\n",
       "|Mist or Fog   |  10568|\n",
       "|Null          |  13223|\n",
       "|Snow          |   1505|"
      ]
     },
     "metadata": {},
     "output_type": "display_data"
    }
   ],
   "source": [
    "knitr::kable(table(df3$weatherA))"
   ]
  },
  {
   "cell_type": "code",
   "execution_count": 24,
   "id": "3b2c9fd6-2484-4abd-96ff-180b7501c7bd",
   "metadata": {},
   "outputs": [
    {
     "data": {
      "image/png": "[encoded data removed]",
      "text/plain": [
       "plot without title"
      ]
     },
     "metadata": {
      "image/png": {
       "height": 420,
       "width": 420
      }
     },
     "output_type": "display_data"
    }
   ],
   "source": [
    "ggplot(df3,aes(x=crashSeverity, group = region)) + geom_bar() +  facet_wrap(~weatherA)"
   ]
  },
  {
   "cell_type": "code",
   "execution_count": 31,
   "id": "9d4790cf-6326-479c-b1b7-c52fad8fd6b7",
   "metadata": {},
   "outputs": [
    {
     "data": {
      "image/png": "[encoded data removed]",
      "text/plain": [
       "plot without title"
      ]
     },
     "metadata": {
      "image/png": {
       "height": 420,
       "width": 420
      }
     },
     "output_type": "display_data"
    }
   ],
   "source": [
    "df3 %>% filter(crashSeverity == 'Serious Crash') %>% ggplot(aes(x = crashSeverity))+ geom_bar() +  facet_wrap(~weatherA)"
   ]
  },
  {
   "cell_type": "markdown",
   "id": "49f544f9-b37c-4e9a-acd8-6380cb1bf11e",
   "metadata": {},
   "source": [
    "## 5. Analytical Plan"
   ]
  },
  {
   "cell_type": "markdown",
   "id": "d6c0e95c-2ced-47c5-b5e0-264cf3870a09",
   "metadata": {},
   "source": [
    "The next step is to apply analytical methods, in other words, models. We have learned the linear regression model. I think some of the concepts will fit our goal. For example, suppose we want to count the total number of crashes based on something. We can use linear regression to determine which attributes contribute the most by the backward or o forward stepwise method. <br>\n",
    "\n",
    "On the other hand, in our case, finding out which attributes contribute the most to car crashes is a classification problem, and we may build a tree model or neural model to find out the result. <br>\n",
    "\n",
    "In the end, we can use the cross-validation method to compare different models and find out the best one.\n"
   ]
  },
  {
   "cell_type": "markdown",
   "id": "33e6d952-e08d-433d-94a5-70fa9f1197b5",
   "metadata": {},
   "source": [
    "## Appendix"
   ]
  },
  {
   "cell_type": "markdown",
   "id": "f64fa926-3408-4234-b26d-33f41aee9a1c",
   "metadata": {},
   "source": [
    "### 1.1"
   ]
  },
  {
   "cell_type": "code",
   "execution_count": 1,
   "id": "07bd7bdb-0528-4119-a84f-cffcddb16163",
   "metadata": {},
   "outputs": [
    {
     "name": "stderr",
     "output_type": "stream",
     "text": [
      "Warning message:\n",
      "\"package 'tidyverse' was built under R version 3.6.3\"\n",
      "-- \u001b[1mAttaching packages\u001b[22m --------------------------------------- tidyverse 1.3.1 --\n",
      "\n",
      "\u001b[32mv\u001b[39m \u001b[34mggplot2\u001b[39m 3.3.5     \u001b[32mv\u001b[39m \u001b[34mpurrr  \u001b[39m 0.3.4\n",
      "\u001b[32mv\u001b[39m \u001b[34mtibble \u001b[39m 3.1.1     \u001b[32mv\u001b[39m \u001b[34mdplyr  \u001b[39m 1.0.6\n",
      "\u001b[32mv\u001b[39m \u001b[34mtidyr  \u001b[39m 1.1.3     \u001b[32mv\u001b[39m \u001b[34mstringr\u001b[39m 1.4.0\n",
      "\u001b[32mv\u001b[39m \u001b[34mreadr  \u001b[39m 1.4.0     \u001b[32mv\u001b[39m \u001b[34mforcats\u001b[39m 0.5.1\n",
      "\n",
      "Warning message:\n",
      "\"package 'tibble' was built under R version 3.6.3\"\n",
      "Warning message:\n",
      "\"package 'tidyr' was built under R version 3.6.3\"\n",
      "Warning message:\n",
      "\"package 'readr' was built under R version 3.6.3\"\n",
      "Warning message:\n",
      "\"package 'purrr' was built under R version 3.6.3\"\n",
      "Warning message:\n",
      "\"package 'dplyr' was built under R version 3.6.3\"\n",
      "Warning message:\n",
      "\"package 'forcats' was built under R version 3.6.3\"\n",
      "-- \u001b[1mConflicts\u001b[22m ------------------------------------------ tidyverse_conflicts() --\n",
      "\u001b[31mx\u001b[39m \u001b[34mdplyr\u001b[39m::\u001b[32mfilter()\u001b[39m masks \u001b[34mstats\u001b[39m::filter()\n",
      "\u001b[31mx\u001b[39m \u001b[34mdplyr\u001b[39m::\u001b[32mlag()\u001b[39m    masks \u001b[34mstats\u001b[39m::lag()\n",
      "\n"
     ]
    }
   ],
   "source": [
    "library(tidyverse)"
   ]
  },
  {
   "cell_type": "code",
   "execution_count": 2,
   "id": "f27a6e9d-c8c8-413c-9d68-8ef7dca6686e",
   "metadata": {},
   "outputs": [
    {
     "name": "stderr",
     "output_type": "stream",
     "text": [
      "\n",
      "\u001b[36m--\u001b[39m \u001b[1m\u001b[1mColumn specification\u001b[1m\u001b[22m \u001b[36m--------------------------------------------------------\u001b[39m\n",
      "cols(\n",
      "  .default = col_double(),\n",
      "  crashDirectionDescription = \u001b[31mcol_character()\u001b[39m,\n",
      "  crashFinancialYear = \u001b[31mcol_character()\u001b[39m,\n",
      "  crashLocation1 = \u001b[31mcol_character()\u001b[39m,\n",
      "  crashLocation2 = \u001b[31mcol_character()\u001b[39m,\n",
      "  crashRoadSideRoad = \u001b[33mcol_logical()\u001b[39m,\n",
      "  crashSeverity = \u001b[31mcol_character()\u001b[39m,\n",
      "  crashSHDescription = \u001b[31mcol_character()\u001b[39m,\n",
      "  directionRoleDescription = \u001b[31mcol_character()\u001b[39m,\n",
      "  flatHill = \u001b[31mcol_character()\u001b[39m,\n",
      "  holiday = \u001b[31mcol_character()\u001b[39m,\n",
      "  intersection = \u001b[33mcol_logical()\u001b[39m,\n",
      "  light = \u001b[31mcol_character()\u001b[39m,\n",
      "  region = \u001b[31mcol_character()\u001b[39m,\n",
      "  roadCharacter = \u001b[31mcol_character()\u001b[39m,\n",
      "  roadLane = \u001b[31mcol_character()\u001b[39m,\n",
      "  roadSurface = \u001b[31mcol_character()\u001b[39m,\n",
      "  streetLight = \u001b[31mcol_character()\u001b[39m,\n",
      "  tlaName = \u001b[31mcol_character()\u001b[39m,\n",
      "  trafficControl = \u001b[31mcol_character()\u001b[39m,\n",
      "  urban = \u001b[31mcol_character()\u001b[39m\n",
      "  # ... with 2 more columns\n",
      ")\n",
      "\u001b[36mi\u001b[39m Use \u001b[30m\u001b[47m\u001b[30m\u001b[47m`spec()`\u001b[47m\u001b[30m\u001b[49m\u001b[39m for the full column specifications.\n",
      "\n",
      "\n"
     ]
    },
    {
     "data": {
      "text/html": [
       "<table>\n",
       "<thead><tr><th scope=col>X</th><th scope=col>Y</th><th scope=col>OBJECTID</th><th scope=col>advisorySpeed</th><th scope=col>areaUnitID</th><th scope=col>bicycle</th><th scope=col>bridge</th><th scope=col>bus</th><th scope=col>carStationWagon</th><th scope=col>cliffBank</th><th scope=col>...</th><th scope=col>train</th><th scope=col>tree</th><th scope=col>truck</th><th scope=col>unknownVehicleType</th><th scope=col>urban</th><th scope=col>vanOrUtility</th><th scope=col>vehicle</th><th scope=col>waterRiver</th><th scope=col>weatherA</th><th scope=col>weatherB</th></tr></thead>\n",
       "<tbody>\n",
       "\t<tr><td>1772561   </td><td>5896382   </td><td>1         </td><td>NA        </td><td>525420    </td><td>0         </td><td>NA        </td><td>0         </td><td>1         </td><td>NA        </td><td>...       </td><td>NA        </td><td>NA        </td><td>0         </td><td>0         </td><td>Urban     </td><td>0         </td><td>NA        </td><td>NA        </td><td>Fine      </td><td>Null      </td></tr>\n",
       "\t<tr><td>1836757   </td><td>5859311   </td><td>3         </td><td>NA        </td><td>534300    </td><td>0         </td><td>NA        </td><td>0         </td><td>2         </td><td>NA        </td><td>...       </td><td>NA        </td><td>NA        </td><td>0         </td><td>0         </td><td>Urban     </td><td>0         </td><td>NA        </td><td>NA        </td><td>Fine      </td><td>Frost     </td></tr>\n",
       "\t<tr><td>1762088   </td><td>5912507   </td><td>4         </td><td>NA        </td><td>519500    </td><td>0         </td><td>NA        </td><td>0         </td><td>1         </td><td>NA        </td><td>...       </td><td>NA        </td><td>NA        </td><td>0         </td><td>0         </td><td>Urban     </td><td>1         </td><td>NA        </td><td>NA        </td><td>Fine      </td><td>Null      </td></tr>\n",
       "\t<tr><td>1753522   </td><td>5911939   </td><td>6         </td><td>NA        </td><td>518902    </td><td>0         </td><td>NA        </td><td>0         </td><td>2         </td><td>NA        </td><td>...       </td><td>NA        </td><td>NA        </td><td>0         </td><td>0         </td><td>Urban     </td><td>0         </td><td>NA        </td><td>NA        </td><td>Light rain</td><td>Null      </td></tr>\n",
       "\t<tr><td>1761364   </td><td>5914259   </td><td>7         </td><td>NA        </td><td>520202    </td><td>0         </td><td>NA        </td><td>0         </td><td>2         </td><td>NA        </td><td>...       </td><td>NA        </td><td>NA        </td><td>0         </td><td>0         </td><td>Urban     </td><td>0         </td><td>NA        </td><td>NA        </td><td>Fine      </td><td>Null      </td></tr>\n",
       "\t<tr><td>1803464   </td><td>5815043   </td><td>9         </td><td>NA        </td><td>530500    </td><td>0         </td><td>NA        </td><td>0         </td><td>3         </td><td>NA        </td><td>...       </td><td>NA        </td><td>NA        </td><td>0         </td><td>0         </td><td>Urban     </td><td>0         </td><td>NA        </td><td>NA        </td><td>Fine      </td><td>Null      </td></tr>\n",
       "</tbody>\n",
       "</table>\n"
      ],
      "text/latex": [
       "\\begin{tabular}{r|llllllllllllllllllllllllllllllllllllllllllllllllllllllllllllllllllllllll}\n",
       " X & Y & OBJECTID & advisorySpeed & areaUnitID & bicycle & bridge & bus & carStationWagon & cliffBank & ... & train & tree & truck & unknownVehicleType & urban & vanOrUtility & vehicle & waterRiver & weatherA & weatherB\\\\\n",
       "\\hline\n",
       "\t 1772561    & 5896382    & 1          & NA         & 525420     & 0          & NA         & 0          & 1          & NA         & ...        & NA         & NA         & 0          & 0          & Urban      & 0          & NA         & NA         & Fine       & Null      \\\\\n",
       "\t 1836757    & 5859311    & 3          & NA         & 534300     & 0          & NA         & 0          & 2          & NA         & ...        & NA         & NA         & 0          & 0          & Urban      & 0          & NA         & NA         & Fine       & Frost     \\\\\n",
       "\t 1762088    & 5912507    & 4          & NA         & 519500     & 0          & NA         & 0          & 1          & NA         & ...        & NA         & NA         & 0          & 0          & Urban      & 1          & NA         & NA         & Fine       & Null      \\\\\n",
       "\t 1753522    & 5911939    & 6          & NA         & 518902     & 0          & NA         & 0          & 2          & NA         & ...        & NA         & NA         & 0          & 0          & Urban      & 0          & NA         & NA         & Light rain & Null      \\\\\n",
       "\t 1761364    & 5914259    & 7          & NA         & 520202     & 0          & NA         & 0          & 2          & NA         & ...        & NA         & NA         & 0          & 0          & Urban      & 0          & NA         & NA         & Fine       & Null      \\\\\n",
       "\t 1803464    & 5815043    & 9          & NA         & 530500     & 0          & NA         & 0          & 3          & NA         & ...        & NA         & NA         & 0          & 0          & Urban      & 0          & NA         & NA         & Fine       & Null      \\\\\n",
       "\\end{tabular}\n"
      ],
      "text/markdown": [
       "\n",
       "| X | Y | OBJECTID | advisorySpeed | areaUnitID | bicycle | bridge | bus | carStationWagon | cliffBank | ... | train | tree | truck | unknownVehicleType | urban | vanOrUtility | vehicle | waterRiver | weatherA | weatherB |\n",
       "|---|---|---|---|---|---|---|---|---|---|---|---|---|---|---|---|---|---|---|---|---|\n",
       "| 1772561    | 5896382    | 1          | NA         | 525420     | 0          | NA         | 0          | 1          | NA         | ...        | NA         | NA         | 0          | 0          | Urban      | 0          | NA         | NA         | Fine       | Null       |\n",
       "| 1836757    | 5859311    | 3          | NA         | 534300     | 0          | NA         | 0          | 2          | NA         | ...        | NA         | NA         | 0          | 0          | Urban      | 0          | NA         | NA         | Fine       | Frost      |\n",
       "| 1762088    | 5912507    | 4          | NA         | 519500     | 0          | NA         | 0          | 1          | NA         | ...        | NA         | NA         | 0          | 0          | Urban      | 1          | NA         | NA         | Fine       | Null       |\n",
       "| 1753522    | 5911939    | 6          | NA         | 518902     | 0          | NA         | 0          | 2          | NA         | ...        | NA         | NA         | 0          | 0          | Urban      | 0          | NA         | NA         | Light rain | Null       |\n",
       "| 1761364    | 5914259    | 7          | NA         | 520202     | 0          | NA         | 0          | 2          | NA         | ...        | NA         | NA         | 0          | 0          | Urban      | 0          | NA         | NA         | Fine       | Null       |\n",
       "| 1803464    | 5815043    | 9          | NA         | 530500     | 0          | NA         | 0          | 3          | NA         | ...        | NA         | NA         | 0          | 0          | Urban      | 0          | NA         | NA         | Fine       | Null       |\n",
       "\n"
      ],
      "text/plain": [
       "  X       Y       OBJECTID advisorySpeed areaUnitID bicycle bridge bus\n",
       "1 1772561 5896382 1        NA            525420     0       NA     0  \n",
       "2 1836757 5859311 3        NA            534300     0       NA     0  \n",
       "3 1762088 5912507 4        NA            519500     0       NA     0  \n",
       "4 1753522 5911939 6        NA            518902     0       NA     0  \n",
       "5 1761364 5914259 7        NA            520202     0       NA     0  \n",
       "6 1803464 5815043 9        NA            530500     0       NA     0  \n",
       "  carStationWagon cliffBank ... train tree truck unknownVehicleType urban\n",
       "1 1               NA        ... NA    NA   0     0                  Urban\n",
       "2 2               NA        ... NA    NA   0     0                  Urban\n",
       "3 1               NA        ... NA    NA   0     0                  Urban\n",
       "4 2               NA        ... NA    NA   0     0                  Urban\n",
       "5 2               NA        ... NA    NA   0     0                  Urban\n",
       "6 3               NA        ... NA    NA   0     0                  Urban\n",
       "  vanOrUtility vehicle waterRiver weatherA   weatherB\n",
       "1 0            NA      NA         Fine       Null    \n",
       "2 0            NA      NA         Fine       Frost   \n",
       "3 1            NA      NA         Fine       Null    \n",
       "4 0            NA      NA         Light rain Null    \n",
       "5 0            NA      NA         Fine       Null    \n",
       "6 0            NA      NA         Fine       Null    "
      ]
     },
     "metadata": {},
     "output_type": "display_data"
    }
   ],
   "source": [
    "df <- read_csv('crash data.csv')\n",
    "head(df)"
   ]
  },
  {
   "cell_type": "code",
   "execution_count": 3,
   "id": "4cd6a293-46d7-4a04-b356-841fa6e751f4",
   "metadata": {},
   "outputs": [
    {
     "data": {
      "text/html": [
       "72"
      ],
      "text/latex": [
       "72"
      ],
      "text/markdown": [
       "72"
      ],
      "text/plain": [
       "[1] 72"
      ]
     },
     "metadata": {},
     "output_type": "display_data"
    }
   ],
   "source": [
    "length(names(df))"
   ]
  },
  {
   "cell_type": "markdown",
   "id": "56763481-b1a8-40f5-9f92-5a2f615e4cc1",
   "metadata": {},
   "source": [
    "### 1.2"
   ]
  },
  {
   "cell_type": "code",
   "execution_count": 4,
   "id": "24a9736e-b75e-41b9-96df-033004bd7a3b",
   "metadata": {},
   "outputs": [],
   "source": [
    "df2 <- select(df,c(OBJECTID, \n",
    "                   urban,\n",
    "                   crashYear,\n",
    "                   directionRoleDescription,\n",
    "                   light,\n",
    "                   region,\n",
    "                   speedLimit,\n",
    "                   roadLane,\n",
    "                   roadSurface,\n",
    "                   weatherA,\n",
    "                   crashSeverity\n",
    "))\n"
   ]
  },
  {
   "cell_type": "code",
   "execution_count": 5,
   "id": "9bf652d9-4143-4cc2-aee9-6c15b2813a18",
   "metadata": {},
   "outputs": [
    {
     "data": {
      "text/html": [
       "<table>\n",
       "<thead><tr><th scope=col>OBJECTID</th><th scope=col>urban</th><th scope=col>crashYear</th><th scope=col>directionRoleDescription</th><th scope=col>light</th><th scope=col>region</th><th scope=col>speedLimit</th><th scope=col>roadLane</th><th scope=col>roadSurface</th><th scope=col>weatherA</th><th scope=col>crashSeverity</th></tr></thead>\n",
       "<tbody>\n",
       "\t<tr><td>1               </td><td>Urban           </td><td>2007            </td><td>North           </td><td>Dark            </td><td>Auckland Region </td><td>50              </td><td>2-way           </td><td>Sealed          </td><td>Fine            </td><td>Non-Injury Crash</td></tr>\n",
       "\t<tr><td>3               </td><td>Urban           </td><td>2003            </td><td>North           </td><td>Dark            </td><td>Waikato Region  </td><td>50              </td><td>2-way           </td><td>Sealed          </td><td>Fine            </td><td>Non-Injury Crash</td></tr>\n",
       "\t<tr><td>4               </td><td>Urban           </td><td>2010            </td><td>East            </td><td>Bright sun      </td><td>Auckland Region </td><td>50              </td><td>2-way           </td><td>Sealed          </td><td>Fine            </td><td>Non-Injury Crash</td></tr>\n",
       "\t<tr><td>6               </td><td>Urban           </td><td>2017            </td><td>North           </td><td>Overcast        </td><td>Auckland Region </td><td>50              </td><td>2-way           </td><td>Sealed          </td><td>Light rain      </td><td>Minor Crash     </td></tr>\n",
       "\t<tr><td>7               </td><td>Urban           </td><td>2018            </td><td>North           </td><td>Overcast        </td><td>Auckland Region </td><td>50              </td><td>1-way           </td><td>Sealed          </td><td>Fine            </td><td>Non-Injury Crash</td></tr>\n",
       "\t<tr><td>9               </td><td>Urban           </td><td>2010            </td><td>South           </td><td>Overcast        </td><td>Waikato Region  </td><td>50              </td><td>2-way           </td><td>Sealed          </td><td>Fine            </td><td>Minor Crash     </td></tr>\n",
       "</tbody>\n",
       "</table>\n"
      ],
      "text/latex": [
       "\\begin{tabular}{r|lllllllllll}\n",
       " OBJECTID & urban & crashYear & directionRoleDescription & light & region & speedLimit & roadLane & roadSurface & weatherA & crashSeverity\\\\\n",
       "\\hline\n",
       "\t 1                & Urban            & 2007             & North            & Dark             & Auckland Region  & 50               & 2-way            & Sealed           & Fine             & Non-Injury Crash\\\\\n",
       "\t 3                & Urban            & 2003             & North            & Dark             & Waikato Region   & 50               & 2-way            & Sealed           & Fine             & Non-Injury Crash\\\\\n",
       "\t 4                & Urban            & 2010             & East             & Bright sun       & Auckland Region  & 50               & 2-way            & Sealed           & Fine             & Non-Injury Crash\\\\\n",
       "\t 6                & Urban            & 2017             & North            & Overcast         & Auckland Region  & 50               & 2-way            & Sealed           & Light rain       & Minor Crash     \\\\\n",
       "\t 7                & Urban            & 2018             & North            & Overcast         & Auckland Region  & 50               & 1-way            & Sealed           & Fine             & Non-Injury Crash\\\\\n",
       "\t 9                & Urban            & 2010             & South            & Overcast         & Waikato Region   & 50               & 2-way            & Sealed           & Fine             & Minor Crash     \\\\\n",
       "\\end{tabular}\n"
      ],
      "text/markdown": [
       "\n",
       "| OBJECTID | urban | crashYear | directionRoleDescription | light | region | speedLimit | roadLane | roadSurface | weatherA | crashSeverity |\n",
       "|---|---|---|---|---|---|---|---|---|---|---|\n",
       "| 1                | Urban            | 2007             | North            | Dark             | Auckland Region  | 50               | 2-way            | Sealed           | Fine             | Non-Injury Crash |\n",
       "| 3                | Urban            | 2003             | North            | Dark             | Waikato Region   | 50               | 2-way            | Sealed           | Fine             | Non-Injury Crash |\n",
       "| 4                | Urban            | 2010             | East             | Bright sun       | Auckland Region  | 50               | 2-way            | Sealed           | Fine             | Non-Injury Crash |\n",
       "| 6                | Urban            | 2017             | North            | Overcast         | Auckland Region  | 50               | 2-way            | Sealed           | Light rain       | Minor Crash      |\n",
       "| 7                | Urban            | 2018             | North            | Overcast         | Auckland Region  | 50               | 1-way            | Sealed           | Fine             | Non-Injury Crash |\n",
       "| 9                | Urban            | 2010             | South            | Overcast         | Waikato Region   | 50               | 2-way            | Sealed           | Fine             | Minor Crash      |\n",
       "\n"
      ],
      "text/plain": [
       "  OBJECTID urban crashYear directionRoleDescription light      region         \n",
       "1 1        Urban 2007      North                    Dark       Auckland Region\n",
       "2 3        Urban 2003      North                    Dark       Waikato Region \n",
       "3 4        Urban 2010      East                     Bright sun Auckland Region\n",
       "4 6        Urban 2017      North                    Overcast   Auckland Region\n",
       "5 7        Urban 2018      North                    Overcast   Auckland Region\n",
       "6 9        Urban 2010      South                    Overcast   Waikato Region \n",
       "  speedLimit roadLane roadSurface weatherA   crashSeverity   \n",
       "1 50         2-way    Sealed      Fine       Non-Injury Crash\n",
       "2 50         2-way    Sealed      Fine       Non-Injury Crash\n",
       "3 50         2-way    Sealed      Fine       Non-Injury Crash\n",
       "4 50         2-way    Sealed      Light rain Minor Crash     \n",
       "5 50         1-way    Sealed      Fine       Non-Injury Crash\n",
       "6 50         2-way    Sealed      Fine       Minor Crash     "
      ]
     },
     "metadata": {},
     "output_type": "display_data"
    }
   ],
   "source": [
    "head(df2)"
   ]
  },
  {
   "cell_type": "code",
   "execution_count": 6,
   "id": "72941721-7169-45cc-b50c-770ac8a3ad01",
   "metadata": {},
   "outputs": [
    {
     "data": {
      "text/html": [
       "<dl class=dl-horizontal>\n",
       "\t<dt>OBJECTID</dt>\n",
       "\t\t<dd>0</dd>\n",
       "\t<dt>urban</dt>\n",
       "\t\t<dd>0</dd>\n",
       "\t<dt>crashYear</dt>\n",
       "\t\t<dd>0</dd>\n",
       "\t<dt>directionRoleDescription</dt>\n",
       "\t\t<dd>79</dd>\n",
       "\t<dt>light</dt>\n",
       "\t\t<dd>0</dd>\n",
       "\t<dt>region</dt>\n",
       "\t\t<dd>3026</dd>\n",
       "\t<dt>speedLimit</dt>\n",
       "\t\t<dd>555</dd>\n",
       "\t<dt>roadLane</dt>\n",
       "\t\t<dd>0</dd>\n",
       "\t<dt>roadSurface</dt>\n",
       "\t\t<dd>0</dd>\n",
       "\t<dt>weatherA</dt>\n",
       "\t\t<dd>0</dd>\n",
       "\t<dt>crashSeverity</dt>\n",
       "\t\t<dd>0</dd>\n",
       "</dl>\n"
      ],
      "text/latex": [
       "\\begin{description*}\n",
       "\\item[OBJECTID] 0\n",
       "\\item[urban] 0\n",
       "\\item[crashYear] 0\n",
       "\\item[directionRoleDescription] 79\n",
       "\\item[light] 0\n",
       "\\item[region] 3026\n",
       "\\item[speedLimit] 555\n",
       "\\item[roadLane] 0\n",
       "\\item[roadSurface] 0\n",
       "\\item[weatherA] 0\n",
       "\\item[crashSeverity] 0\n",
       "\\end{description*}\n"
      ],
      "text/markdown": [
       "OBJECTID\n",
       ":   0urban\n",
       ":   0crashYear\n",
       ":   0directionRoleDescription\n",
       ":   79light\n",
       ":   0region\n",
       ":   3026speedLimit\n",
       ":   555roadLane\n",
       ":   0roadSurface\n",
       ":   0weatherA\n",
       ":   0crashSeverity\n",
       ":   0\n",
       "\n"
      ],
      "text/plain": [
       "                OBJECTID                    urban                crashYear \n",
       "                       0                        0                        0 \n",
       "directionRoleDescription                    light                   region \n",
       "                      79                        0                     3026 \n",
       "              speedLimit                 roadLane              roadSurface \n",
       "                     555                        0                        0 \n",
       "                weatherA            crashSeverity \n",
       "                       0                        0 "
      ]
     },
     "metadata": {},
     "output_type": "display_data"
    }
   ],
   "source": [
    "    colSums(is.na(df2))"
   ]
  },
  {
   "cell_type": "code",
   "execution_count": 9,
   "id": "19846f15-8b44-45f9-8b0d-365f9e7f07c9",
   "metadata": {},
   "outputs": [
    {
     "data": {
      "text/html": [
       "<table>\n",
       "<thead><tr><th scope=col>OBJECTID</th><th scope=col>crashDirectionDescription</th><th scope=col>crashLocation1</th><th scope=col>crashLocation2</th><th scope=col>crashSeverity</th><th scope=col>minorInjuryCount</th><th scope=col>crashYear</th><th scope=col>directionRoleDescription</th><th scope=col>light</th><th scope=col>region</th><th scope=col>speedLimit</th><th scope=col>roadLane</th><th scope=col>weatherA</th></tr></thead>\n",
       "<tbody>\n",
       "\t<tr><td>1                  </td><td>Null               </td><td>EAST ST            </td><td>ELLIOT ST          </td><td>Non-Injury Crash   </td><td>0                  </td><td>2007               </td><td>North              </td><td>Dark               </td><td>Auckland Region    </td><td>50                 </td><td>2-way              </td><td>Fine               </td></tr>\n",
       "\t<tr><td>3                  </td><td>Null               </td><td>SH 2               </td><td>SH 26              </td><td>Non-Injury Crash   </td><td>0                  </td><td>2003               </td><td>North              </td><td>Dark               </td><td>Waikato Region     </td><td>50                 </td><td>2-way              </td><td>Fine               </td></tr>\n",
       "\t<tr><td>4                  </td><td>West               </td><td>CHURCH ST          </td><td>HUGO JOHNSTON DRIVE</td><td>Non-Injury Crash   </td><td>0                  </td><td>2010               </td><td>East               </td><td>Bright sun         </td><td>Auckland Region    </td><td>50                 </td><td>2-way              </td><td>Fine               </td></tr>\n",
       "\t<tr><td>6                  </td><td>Null               </td><td>THE AVENUE         </td><td>ACCESSWAY          </td><td>Minor Crash        </td><td>1                  </td><td>2017               </td><td>North              </td><td>Overcast           </td><td>Auckland Region    </td><td>50                 </td><td>2-way              </td><td>Light rain         </td></tr>\n",
       "\t<tr><td>7                  </td><td>Null               </td><td>PENROSE INT        </td><td>GT SOUTH LINK      </td><td>Non-Injury Crash   </td><td>0                  </td><td>2018               </td><td>North              </td><td>Overcast           </td><td>Auckland Region    </td><td>50                 </td><td>1-way              </td><td>Fine               </td></tr>\n",
       "\t<tr><td>9                  </td><td>North              </td><td>KNIGHTON ROAD      </td><td>HELENA ROAD        </td><td>Minor Crash        </td><td>1                  </td><td>2010               </td><td>South              </td><td>Overcast           </td><td>Waikato Region     </td><td>50                 </td><td>2-way              </td><td>Fine               </td></tr>\n",
       "</tbody>\n",
       "</table>\n"
      ],
      "text/latex": [
       "\\begin{tabular}{r|lllllllllllll}\n",
       " OBJECTID & crashDirectionDescription & crashLocation1 & crashLocation2 & crashSeverity & minorInjuryCount & crashYear & directionRoleDescription & light & region & speedLimit & roadLane & weatherA\\\\\n",
       "\\hline\n",
       "\t 1                   & Null                & EAST ST             & ELLIOT ST           & Non-Injury Crash    & 0                   & 2007                & North               & Dark                & Auckland Region     & 50                  & 2-way               & Fine               \\\\\n",
       "\t 3                   & Null                & SH 2                & SH 26               & Non-Injury Crash    & 0                   & 2003                & North               & Dark                & Waikato Region      & 50                  & 2-way               & Fine               \\\\\n",
       "\t 4                   & West                & CHURCH ST           & HUGO JOHNSTON DRIVE & Non-Injury Crash    & 0                   & 2010                & East                & Bright sun          & Auckland Region     & 50                  & 2-way               & Fine               \\\\\n",
       "\t 6                   & Null                & THE AVENUE          & ACCESSWAY           & Minor Crash         & 1                   & 2017                & North               & Overcast            & Auckland Region     & 50                  & 2-way               & Light rain         \\\\\n",
       "\t 7                   & Null                & PENROSE INT         & GT SOUTH LINK       & Non-Injury Crash    & 0                   & 2018                & North               & Overcast            & Auckland Region     & 50                  & 1-way               & Fine               \\\\\n",
       "\t 9                   & North               & KNIGHTON ROAD       & HELENA ROAD         & Minor Crash         & 1                   & 2010                & South               & Overcast            & Waikato Region      & 50                  & 2-way               & Fine               \\\\\n",
       "\\end{tabular}\n"
      ],
      "text/markdown": [
       "\n",
       "| OBJECTID | crashDirectionDescription | crashLocation1 | crashLocation2 | crashSeverity | minorInjuryCount | crashYear | directionRoleDescription | light | region | speedLimit | roadLane | weatherA |\n",
       "|---|---|---|---|---|---|---|---|---|---|---|---|---|\n",
       "| 1                   | Null                | EAST ST             | ELLIOT ST           | Non-Injury Crash    | 0                   | 2007                | North               | Dark                | Auckland Region     | 50                  | 2-way               | Fine                |\n",
       "| 3                   | Null                | SH 2                | SH 26               | Non-Injury Crash    | 0                   | 2003                | North               | Dark                | Waikato Region      | 50                  | 2-way               | Fine                |\n",
       "| 4                   | West                | CHURCH ST           | HUGO JOHNSTON DRIVE | Non-Injury Crash    | 0                   | 2010                | East                | Bright sun          | Auckland Region     | 50                  | 2-way               | Fine                |\n",
       "| 6                   | Null                | THE AVENUE          | ACCESSWAY           | Minor Crash         | 1                   | 2017                | North               | Overcast            | Auckland Region     | 50                  | 2-way               | Light rain          |\n",
       "| 7                   | Null                | PENROSE INT         | GT SOUTH LINK       | Non-Injury Crash    | 0                   | 2018                | North               | Overcast            | Auckland Region     | 50                  | 1-way               | Fine                |\n",
       "| 9                   | North               | KNIGHTON ROAD       | HELENA ROAD         | Minor Crash         | 1                   | 2010                | South               | Overcast            | Waikato Region      | 50                  | 2-way               | Fine                |\n",
       "\n"
      ],
      "text/plain": [
       "  OBJECTID crashDirectionDescription crashLocation1 crashLocation2     \n",
       "1 1        Null                      EAST ST        ELLIOT ST          \n",
       "2 3        Null                      SH 2           SH 26              \n",
       "3 4        West                      CHURCH ST      HUGO JOHNSTON DRIVE\n",
       "4 6        Null                      THE AVENUE     ACCESSWAY          \n",
       "5 7        Null                      PENROSE INT    GT SOUTH LINK      \n",
       "6 9        North                     KNIGHTON ROAD  HELENA ROAD        \n",
       "  crashSeverity    minorInjuryCount crashYear directionRoleDescription\n",
       "1 Non-Injury Crash 0                2007      North                   \n",
       "2 Non-Injury Crash 0                2003      North                   \n",
       "3 Non-Injury Crash 0                2010      East                    \n",
       "4 Minor Crash      1                2017      North                   \n",
       "5 Non-Injury Crash 0                2018      North                   \n",
       "6 Minor Crash      1                2010      South                   \n",
       "  light      region          speedLimit roadLane weatherA  \n",
       "1 Dark       Auckland Region 50         2-way    Fine      \n",
       "2 Dark       Waikato Region  50         2-way    Fine      \n",
       "3 Bright sun Auckland Region 50         2-way    Fine      \n",
       "4 Overcast   Auckland Region 50         2-way    Light rain\n",
       "5 Overcast   Auckland Region 50         1-way    Fine      \n",
       "6 Overcast   Waikato Region  50         2-way    Fine      "
      ]
     },
     "metadata": {},
     "output_type": "display_data"
    }
   ],
   "source": [
    "head(df2)"
   ]
  },
  {
   "cell_type": "markdown",
   "id": "f0f6904b-7f93-4d81-9db1-359adb34893b",
   "metadata": {},
   "source": [
    "### 1.3"
   ]
  },
  {
   "cell_type": "code",
   "execution_count": 10,
   "id": "360640ba-64d0-4f1e-9ecc-2eee3b874bd2",
   "metadata": {},
   "outputs": [
    {
     "data": {
      "text/html": [
       "<table>\n",
       "<thead><tr><th scope=col>OBJECTID</th><th scope=col>crashDirectionDescription</th><th scope=col>crashLocation1</th><th scope=col>crashLocation2</th><th scope=col>crashSeverity</th><th scope=col>minorInjuryCount</th><th scope=col>crashYear</th><th scope=col>directionRoleDescription</th><th scope=col>light</th><th scope=col>region</th><th scope=col>speedLimit</th><th scope=col>roadLane</th><th scope=col>weatherA</th></tr></thead>\n",
       "<tbody>\n",
       "\t<tr><td>1                  </td><td>Null               </td><td>EAST ST            </td><td>ELLIOT ST          </td><td>Non-Injury Crash   </td><td>0                  </td><td>2007               </td><td>North              </td><td>Dark               </td><td>Auckland Region    </td><td>50                 </td><td>2-way              </td><td>Fine               </td></tr>\n",
       "\t<tr><td>3                  </td><td>Null               </td><td>SH 2               </td><td>SH 26              </td><td>Non-Injury Crash   </td><td>0                  </td><td>2003               </td><td>North              </td><td>Dark               </td><td>Waikato Region     </td><td>50                 </td><td>2-way              </td><td>Fine               </td></tr>\n",
       "\t<tr><td>4                  </td><td>West               </td><td>CHURCH ST          </td><td>HUGO JOHNSTON DRIVE</td><td>Non-Injury Crash   </td><td>0                  </td><td>2010               </td><td>East               </td><td>Bright sun         </td><td>Auckland Region    </td><td>50                 </td><td>2-way              </td><td>Fine               </td></tr>\n",
       "\t<tr><td>6                  </td><td>Null               </td><td>THE AVENUE         </td><td>ACCESSWAY          </td><td>Minor Crash        </td><td>1                  </td><td>2017               </td><td>North              </td><td>Overcast           </td><td>Auckland Region    </td><td>50                 </td><td>2-way              </td><td>Light rain         </td></tr>\n",
       "\t<tr><td>7                  </td><td>Null               </td><td>PENROSE INT        </td><td>GT SOUTH LINK      </td><td>Non-Injury Crash   </td><td>0                  </td><td>2018               </td><td>North              </td><td>Overcast           </td><td>Auckland Region    </td><td>50                 </td><td>1-way              </td><td>Fine               </td></tr>\n",
       "\t<tr><td>9                  </td><td>North              </td><td>KNIGHTON ROAD      </td><td>HELENA ROAD        </td><td>Minor Crash        </td><td>1                  </td><td>2010               </td><td>South              </td><td>Overcast           </td><td>Waikato Region     </td><td>50                 </td><td>2-way              </td><td>Fine               </td></tr>\n",
       "</tbody>\n",
       "</table>\n"
      ],
      "text/latex": [
       "\\begin{tabular}{r|lllllllllllll}\n",
       " OBJECTID & crashDirectionDescription & crashLocation1 & crashLocation2 & crashSeverity & minorInjuryCount & crashYear & directionRoleDescription & light & region & speedLimit & roadLane & weatherA\\\\\n",
       "\\hline\n",
       "\t 1                   & Null                & EAST ST             & ELLIOT ST           & Non-Injury Crash    & 0                   & 2007                & North               & Dark                & Auckland Region     & 50                  & 2-way               & Fine               \\\\\n",
       "\t 3                   & Null                & SH 2                & SH 26               & Non-Injury Crash    & 0                   & 2003                & North               & Dark                & Waikato Region      & 50                  & 2-way               & Fine               \\\\\n",
       "\t 4                   & West                & CHURCH ST           & HUGO JOHNSTON DRIVE & Non-Injury Crash    & 0                   & 2010                & East                & Bright sun          & Auckland Region     & 50                  & 2-way               & Fine               \\\\\n",
       "\t 6                   & Null                & THE AVENUE          & ACCESSWAY           & Minor Crash         & 1                   & 2017                & North               & Overcast            & Auckland Region     & 50                  & 2-way               & Light rain         \\\\\n",
       "\t 7                   & Null                & PENROSE INT         & GT SOUTH LINK       & Non-Injury Crash    & 0                   & 2018                & North               & Overcast            & Auckland Region     & 50                  & 1-way               & Fine               \\\\\n",
       "\t 9                   & North               & KNIGHTON ROAD       & HELENA ROAD         & Minor Crash         & 1                   & 2010                & South               & Overcast            & Waikato Region      & 50                  & 2-way               & Fine               \\\\\n",
       "\\end{tabular}\n"
      ],
      "text/markdown": [
       "\n",
       "| OBJECTID | crashDirectionDescription | crashLocation1 | crashLocation2 | crashSeverity | minorInjuryCount | crashYear | directionRoleDescription | light | region | speedLimit | roadLane | weatherA |\n",
       "|---|---|---|---|---|---|---|---|---|---|---|---|---|\n",
       "| 1                   | Null                | EAST ST             | ELLIOT ST           | Non-Injury Crash    | 0                   | 2007                | North               | Dark                | Auckland Region     | 50                  | 2-way               | Fine                |\n",
       "| 3                   | Null                | SH 2                | SH 26               | Non-Injury Crash    | 0                   | 2003                | North               | Dark                | Waikato Region      | 50                  | 2-way               | Fine                |\n",
       "| 4                   | West                | CHURCH ST           | HUGO JOHNSTON DRIVE | Non-Injury Crash    | 0                   | 2010                | East                | Bright sun          | Auckland Region     | 50                  | 2-way               | Fine                |\n",
       "| 6                   | Null                | THE AVENUE          | ACCESSWAY           | Minor Crash         | 1                   | 2017                | North               | Overcast            | Auckland Region     | 50                  | 2-way               | Light rain          |\n",
       "| 7                   | Null                | PENROSE INT         | GT SOUTH LINK       | Non-Injury Crash    | 0                   | 2018                | North               | Overcast            | Auckland Region     | 50                  | 1-way               | Fine                |\n",
       "| 9                   | North               | KNIGHTON ROAD       | HELENA ROAD         | Minor Crash         | 1                   | 2010                | South               | Overcast            | Waikato Region      | 50                  | 2-way               | Fine                |\n",
       "\n"
      ],
      "text/plain": [
       "  OBJECTID crashDirectionDescription crashLocation1 crashLocation2     \n",
       "1 1        Null                      EAST ST        ELLIOT ST          \n",
       "2 3        Null                      SH 2           SH 26              \n",
       "3 4        West                      CHURCH ST      HUGO JOHNSTON DRIVE\n",
       "4 6        Null                      THE AVENUE     ACCESSWAY          \n",
       "5 7        Null                      PENROSE INT    GT SOUTH LINK      \n",
       "6 9        North                     KNIGHTON ROAD  HELENA ROAD        \n",
       "  crashSeverity    minorInjuryCount crashYear directionRoleDescription\n",
       "1 Non-Injury Crash 0                2007      North                   \n",
       "2 Non-Injury Crash 0                2003      North                   \n",
       "3 Non-Injury Crash 0                2010      East                    \n",
       "4 Minor Crash      1                2017      North                   \n",
       "5 Non-Injury Crash 0                2018      North                   \n",
       "6 Minor Crash      1                2010      South                   \n",
       "  light      region          speedLimit roadLane weatherA  \n",
       "1 Dark       Auckland Region 50         2-way    Fine      \n",
       "2 Dark       Waikato Region  50         2-way    Fine      \n",
       "3 Bright sun Auckland Region 50         2-way    Fine      \n",
       "4 Overcast   Auckland Region 50         2-way    Light rain\n",
       "5 Overcast   Auckland Region 50         1-way    Fine      \n",
       "6 Overcast   Waikato Region  50         2-way    Fine      "
      ]
     },
     "metadata": {},
     "output_type": "display_data"
    }
   ],
   "source": [
    "df3 <- filter(df2,!is.na(region)) # Handle the missing region\n",
    "head(df3)"
   ]
  },
  {
   "cell_type": "code",
   "execution_count": 11,
   "id": "3f788347-88b2-42b0-b6b5-b658e8ea7e01",
   "metadata": {},
   "outputs": [
    {
     "data": {
      "text/html": [
       "<dl class=dl-horizontal>\n",
       "\t<dt>OBJECTID</dt>\n",
       "\t\t<dd>0</dd>\n",
       "\t<dt>crashDirectionDescription</dt>\n",
       "\t\t<dd>0</dd>\n",
       "\t<dt>crashLocation1</dt>\n",
       "\t\t<dd>0</dd>\n",
       "\t<dt>crashLocation2</dt>\n",
       "\t\t<dd>892</dd>\n",
       "\t<dt>crashSeverity</dt>\n",
       "\t\t<dd>0</dd>\n",
       "\t<dt>minorInjuryCount</dt>\n",
       "\t\t<dd>136</dd>\n",
       "\t<dt>crashYear</dt>\n",
       "\t\t<dd>0</dd>\n",
       "\t<dt>directionRoleDescription</dt>\n",
       "\t\t<dd>79</dd>\n",
       "\t<dt>light</dt>\n",
       "\t\t<dd>0</dd>\n",
       "\t<dt>region</dt>\n",
       "\t\t<dd>0</dd>\n",
       "\t<dt>speedLimit</dt>\n",
       "\t\t<dd>541</dd>\n",
       "\t<dt>roadLane</dt>\n",
       "\t\t<dd>0</dd>\n",
       "\t<dt>weatherA</dt>\n",
       "\t\t<dd>0</dd>\n",
       "</dl>\n"
      ],
      "text/latex": [
       "\\begin{description*}\n",
       "\\item[OBJECTID] 0\n",
       "\\item[crashDirectionDescription] 0\n",
       "\\item[crashLocation1] 0\n",
       "\\item[crashLocation2] 892\n",
       "\\item[crashSeverity] 0\n",
       "\\item[minorInjuryCount] 136\n",
       "\\item[crashYear] 0\n",
       "\\item[directionRoleDescription] 79\n",
       "\\item[light] 0\n",
       "\\item[region] 0\n",
       "\\item[speedLimit] 541\n",
       "\\item[roadLane] 0\n",
       "\\item[weatherA] 0\n",
       "\\end{description*}\n"
      ],
      "text/markdown": [
       "OBJECTID\n",
       ":   0crashDirectionDescription\n",
       ":   0crashLocation1\n",
       ":   0crashLocation2\n",
       ":   892crashSeverity\n",
       ":   0minorInjuryCount\n",
       ":   136crashYear\n",
       ":   0directionRoleDescription\n",
       ":   79light\n",
       ":   0region\n",
       ":   0speedLimit\n",
       ":   541roadLane\n",
       ":   0weatherA\n",
       ":   0\n",
       "\n"
      ],
      "text/plain": [
       "                 OBJECTID crashDirectionDescription            crashLocation1 \n",
       "                        0                         0                         0 \n",
       "           crashLocation2             crashSeverity          minorInjuryCount \n",
       "                      892                         0                       136 \n",
       "                crashYear  directionRoleDescription                     light \n",
       "                        0                        79                         0 \n",
       "                   region                speedLimit                  roadLane \n",
       "                        0                       541                         0 \n",
       "                 weatherA \n",
       "                        0 "
      ]
     },
     "metadata": {},
     "output_type": "display_data"
    }
   ],
   "source": [
    "colSums(is.na(df3))"
   ]
  },
  {
   "cell_type": "markdown",
   "id": "bd9b3e3d-8360-44cc-89de-fe268ec70c0b",
   "metadata": {},
   "source": [
    "### 1.4"
   ]
  },
  {
   "cell_type": "code",
   "execution_count": 12,
   "id": "b2b4fcf1-6836-495b-a131-dcc6c8078e40",
   "metadata": {},
   "outputs": [
    {
     "data": {
      "text/html": [
       "<table>\n",
       "<thead><tr><th scope=col>OBJECTID</th><th scope=col>crashDirectionDescription</th><th scope=col>crashLocation1</th><th scope=col>crashLocation2</th><th scope=col>crashSeverity</th><th scope=col>minorInjuryCount</th><th scope=col>crashYear</th><th scope=col>directionRoleDescription</th><th scope=col>light</th><th scope=col>region</th><th scope=col>speedLimit</th><th scope=col>roadLane</th><th scope=col>weatherA</th></tr></thead>\n",
       "<tbody>\n",
       "\t<tr><td> 898                                    </td><td>Null                                    </td><td>OFFROAD CARPARK                         </td><td>NA                                      </td><td>Minor Crash                             </td><td>1                                       </td><td>2020                                    </td><td>South                                   </td><td>Bright sun                              </td><td>Wellington Region                       </td><td>50                                      </td><td>Off road                                </td><td>Fine                                    </td></tr>\n",
       "\t<tr><td>1559                                    </td><td>Null                                    </td><td>HAMILTON ROAD, CAMBRIDGE, WAIPA DISTRICT</td><td>NA                                      </td><td>Minor Crash                             </td><td>1                                       </td><td>2019                                    </td><td>East                                    </td><td>Dark                                    </td><td>Waikato Region                          </td><td>50                                      </td><td>2-way                                   </td><td>Fine                                    </td></tr>\n",
       "\t<tr><td>2485                                    </td><td>Null                                    </td><td>Z CARPARK NORTHWOOD SUPA CENTRE         </td><td>NA                                      </td><td>Minor Crash                             </td><td>1                                       </td><td>2019                                    </td><td>West                                    </td><td>Bright sun                              </td><td>Canterbury Region                       </td><td>20                                      </td><td>Off road                                </td><td>Fine                                    </td></tr>\n",
       "\t<tr><td>2544                                    </td><td>Null                                    </td><td>OFF ROAD - RESENE CARPARK               </td><td>NA                                      </td><td>Minor Crash                             </td><td>1                                       </td><td>2020                                    </td><td>East                                    </td><td>Bright sun                              </td><td>Auckland Region                         </td><td>NA                                      </td><td>Off road                                </td><td>Fine                                    </td></tr>\n",
       "\t<tr><td>3497                                    </td><td>Null                                    </td><td>OFF ROAD                                </td><td>NA                                      </td><td>Minor Crash                             </td><td>1                                       </td><td>2019                                    </td><td>South                                   </td><td>Overcast                                </td><td>Manawatu-Whanganui Region               </td><td>50                                      </td><td>Off road                                </td><td>Fine                                    </td></tr>\n",
       "\t<tr><td>3772                                    </td><td>Null                                    </td><td>OFF ROAD - KAWHIA BEACH                 </td><td>NA                                      </td><td>Serious Crash                           </td><td>0                                       </td><td>2020                                    </td><td>Null                                    </td><td>Overcast                                </td><td>Waikato Region                          </td><td>NA                                      </td><td>Off road                                </td><td>Fine                                    </td></tr>\n",
       "</tbody>\n",
       "</table>\n"
      ],
      "text/latex": [
       "\\begin{tabular}{r|lllllllllllll}\n",
       " OBJECTID & crashDirectionDescription & crashLocation1 & crashLocation2 & crashSeverity & minorInjuryCount & crashYear & directionRoleDescription & light & region & speedLimit & roadLane & weatherA\\\\\n",
       "\\hline\n",
       "\t  898                                     & Null                                     & OFFROAD CARPARK                          & NA                                       & Minor Crash                              & 1                                        & 2020                                     & South                                    & Bright sun                               & Wellington Region                        & 50                                       & Off road                                 & Fine                                    \\\\\n",
       "\t 1559                                     & Null                                     & HAMILTON ROAD, CAMBRIDGE, WAIPA DISTRICT & NA                                       & Minor Crash                              & 1                                        & 2019                                     & East                                     & Dark                                     & Waikato Region                           & 50                                       & 2-way                                    & Fine                                    \\\\\n",
       "\t 2485                                     & Null                                     & Z CARPARK NORTHWOOD SUPA CENTRE          & NA                                       & Minor Crash                              & 1                                        & 2019                                     & West                                     & Bright sun                               & Canterbury Region                        & 20                                       & Off road                                 & Fine                                    \\\\\n",
       "\t 2544                                     & Null                                     & OFF ROAD - RESENE CARPARK                & NA                                       & Minor Crash                              & 1                                        & 2020                                     & East                                     & Bright sun                               & Auckland Region                          & NA                                       & Off road                                 & Fine                                    \\\\\n",
       "\t 3497                                     & Null                                     & OFF ROAD                                 & NA                                       & Minor Crash                              & 1                                        & 2019                                     & South                                    & Overcast                                 & Manawatu-Whanganui Region                & 50                                       & Off road                                 & Fine                                    \\\\\n",
       "\t 3772                                     & Null                                     & OFF ROAD - KAWHIA BEACH                  & NA                                       & Serious Crash                            & 0                                        & 2020                                     & Null                                     & Overcast                                 & Waikato Region                           & NA                                       & Off road                                 & Fine                                    \\\\\n",
       "\\end{tabular}\n"
      ],
      "text/markdown": [
       "\n",
       "| OBJECTID | crashDirectionDescription | crashLocation1 | crashLocation2 | crashSeverity | minorInjuryCount | crashYear | directionRoleDescription | light | region | speedLimit | roadLane | weatherA |\n",
       "|---|---|---|---|---|---|---|---|---|---|---|---|---|\n",
       "|  898                                     | Null                                     | OFFROAD CARPARK                          | NA                                       | Minor Crash                              | 1                                        | 2020                                     | South                                    | Bright sun                               | Wellington Region                        | 50                                       | Off road                                 | Fine                                     |\n",
       "| 1559                                     | Null                                     | HAMILTON ROAD, CAMBRIDGE, WAIPA DISTRICT | NA                                       | Minor Crash                              | 1                                        | 2019                                     | East                                     | Dark                                     | Waikato Region                           | 50                                       | 2-way                                    | Fine                                     |\n",
       "| 2485                                     | Null                                     | Z CARPARK NORTHWOOD SUPA CENTRE          | NA                                       | Minor Crash                              | 1                                        | 2019                                     | West                                     | Bright sun                               | Canterbury Region                        | 20                                       | Off road                                 | Fine                                     |\n",
       "| 2544                                     | Null                                     | OFF ROAD - RESENE CARPARK                | NA                                       | Minor Crash                              | 1                                        | 2020                                     | East                                     | Bright sun                               | Auckland Region                          | NA                                       | Off road                                 | Fine                                     |\n",
       "| 3497                                     | Null                                     | OFF ROAD                                 | NA                                       | Minor Crash                              | 1                                        | 2019                                     | South                                    | Overcast                                 | Manawatu-Whanganui Region                | 50                                       | Off road                                 | Fine                                     |\n",
       "| 3772                                     | Null                                     | OFF ROAD - KAWHIA BEACH                  | NA                                       | Serious Crash                            | 0                                        | 2020                                     | Null                                     | Overcast                                 | Waikato Region                           | NA                                       | Off road                                 | Fine                                     |\n",
       "\n"
      ],
      "text/plain": [
       "  OBJECTID crashDirectionDescription crashLocation1                          \n",
       "1  898     Null                      OFFROAD CARPARK                         \n",
       "2 1559     Null                      HAMILTON ROAD, CAMBRIDGE, WAIPA DISTRICT\n",
       "3 2485     Null                      Z CARPARK NORTHWOOD SUPA CENTRE         \n",
       "4 2544     Null                      OFF ROAD - RESENE CARPARK               \n",
       "5 3497     Null                      OFF ROAD                                \n",
       "6 3772     Null                      OFF ROAD - KAWHIA BEACH                 \n",
       "  crashLocation2 crashSeverity minorInjuryCount crashYear\n",
       "1 NA             Minor Crash   1                2020     \n",
       "2 NA             Minor Crash   1                2019     \n",
       "3 NA             Minor Crash   1                2019     \n",
       "4 NA             Minor Crash   1                2020     \n",
       "5 NA             Minor Crash   1                2019     \n",
       "6 NA             Serious Crash 0                2020     \n",
       "  directionRoleDescription light      region                    speedLimit\n",
       "1 South                    Bright sun Wellington Region         50        \n",
       "2 East                     Dark       Waikato Region            50        \n",
       "3 West                     Bright sun Canterbury Region         20        \n",
       "4 East                     Bright sun Auckland Region           NA        \n",
       "5 South                    Overcast   Manawatu-Whanganui Region 50        \n",
       "6 Null                     Overcast   Waikato Region            NA        \n",
       "  roadLane weatherA\n",
       "1 Off road Fine    \n",
       "2 2-way    Fine    \n",
       "3 Off road Fine    \n",
       "4 Off road Fine    \n",
       "5 Off road Fine    \n",
       "6 Off road Fine    "
      ]
     },
     "metadata": {},
     "output_type": "display_data"
    }
   ],
   "source": [
    "df_missing_crash2 <- filter(df3,is.na(crashLocation2))\n",
    "head(df_missing_crash2)\n",
    "# Check All the crash location 2 are NA\n",
    "# The Conclusion is basically all the NA crash Location 2 are Offroad area, thus we maybe can fill this with NULL."
   ]
  },
  {
   "cell_type": "code",
   "execution_count": 13,
   "id": "f574fbf2-f272-4365-9798-5fcf8211b7b8",
   "metadata": {},
   "outputs": [],
   "source": [
    "df3$minorInjuryCount[is.na(df3$minorInjuryCount)]<-0 # Handle Missing Value for minorInjuryCount"
   ]
  },
  {
   "cell_type": "code",
   "execution_count": 14,
   "id": "afcbedfc-f2d3-4c4b-b99b-e09f89ae432d",
   "metadata": {},
   "outputs": [],
   "source": [
    "df3$speedLimit[is.na(df3$speedLimit)]<-mean(df3$speedLimit, na.rm=T)  # Handle Missing Value for speedLimit"
   ]
  },
  {
   "cell_type": "code",
   "execution_count": 15,
   "id": "3be612c0-071a-4cc6-849a-851067b40401",
   "metadata": {},
   "outputs": [],
   "source": [
    "df3$directionRoleDescription[is.na(df3$directionRoleDescription)]<-0 # Handle Missing Value for directionRoleDescription"
   ]
  },
  {
   "cell_type": "code",
   "execution_count": 16,
   "id": "6a06916d-4873-4859-a20c-f34562ec50a0",
   "metadata": {},
   "outputs": [],
   "source": [
    "df3$crashLocation2[is.na(df3$crashLocation2)]<-0 # Handle Missing Value for crashLocation2"
   ]
  },
  {
   "cell_type": "code",
   "execution_count": 17,
   "id": "db37975e-2f3e-404a-95c7-46362691902b",
   "metadata": {},
   "outputs": [
    {
     "data": {
      "text/html": [
       "<dl class=dl-horizontal>\n",
       "\t<dt>OBJECTID</dt>\n",
       "\t\t<dd>0</dd>\n",
       "\t<dt>crashDirectionDescription</dt>\n",
       "\t\t<dd>0</dd>\n",
       "\t<dt>crashLocation1</dt>\n",
       "\t\t<dd>0</dd>\n",
       "\t<dt>crashLocation2</dt>\n",
       "\t\t<dd>0</dd>\n",
       "\t<dt>crashSeverity</dt>\n",
       "\t\t<dd>0</dd>\n",
       "\t<dt>minorInjuryCount</dt>\n",
       "\t\t<dd>0</dd>\n",
       "\t<dt>crashYear</dt>\n",
       "\t\t<dd>0</dd>\n",
       "\t<dt>directionRoleDescription</dt>\n",
       "\t\t<dd>0</dd>\n",
       "\t<dt>light</dt>\n",
       "\t\t<dd>0</dd>\n",
       "\t<dt>region</dt>\n",
       "\t\t<dd>0</dd>\n",
       "\t<dt>speedLimit</dt>\n",
       "\t\t<dd>0</dd>\n",
       "\t<dt>roadLane</dt>\n",
       "\t\t<dd>0</dd>\n",
       "\t<dt>weatherA</dt>\n",
       "\t\t<dd>0</dd>\n",
       "</dl>\n"
      ],
      "text/latex": [
       "\\begin{description*}\n",
       "\\item[OBJECTID] 0\n",
       "\\item[crashDirectionDescription] 0\n",
       "\\item[crashLocation1] 0\n",
       "\\item[crashLocation2] 0\n",
       "\\item[crashSeverity] 0\n",
       "\\item[minorInjuryCount] 0\n",
       "\\item[crashYear] 0\n",
       "\\item[directionRoleDescription] 0\n",
       "\\item[light] 0\n",
       "\\item[region] 0\n",
       "\\item[speedLimit] 0\n",
       "\\item[roadLane] 0\n",
       "\\item[weatherA] 0\n",
       "\\end{description*}\n"
      ],
      "text/markdown": [
       "OBJECTID\n",
       ":   0crashDirectionDescription\n",
       ":   0crashLocation1\n",
       ":   0crashLocation2\n",
       ":   0crashSeverity\n",
       ":   0minorInjuryCount\n",
       ":   0crashYear\n",
       ":   0directionRoleDescription\n",
       ":   0light\n",
       ":   0region\n",
       ":   0speedLimit\n",
       ":   0roadLane\n",
       ":   0weatherA\n",
       ":   0\n",
       "\n"
      ],
      "text/plain": [
       "                 OBJECTID crashDirectionDescription            crashLocation1 \n",
       "                        0                         0                         0 \n",
       "           crashLocation2             crashSeverity          minorInjuryCount \n",
       "                        0                         0                         0 \n",
       "                crashYear  directionRoleDescription                     light \n",
       "                        0                         0                         0 \n",
       "                   region                speedLimit                  roadLane \n",
       "                        0                         0                         0 \n",
       "                 weatherA \n",
       "                        0 "
      ]
     },
     "metadata": {},
     "output_type": "display_data"
    }
   ],
   "source": [
    "colSums(is.na(df3)) # No missing value in dataset"
   ]
  },
  {
   "cell_type": "code",
   "execution_count": 18,
   "id": "10a8095f-0b96-4b35-8e6b-a03ddeca7251",
   "metadata": {},
   "outputs": [],
   "source": [
    "library(ggplot2)"
   ]
  },
  {
   "cell_type": "code",
   "execution_count": null,
   "id": "4ebe02da-9587-4bd0-9c49-95aba0905c05",
   "metadata": {},
   "outputs": [],
   "source": []
  }
 ],
 "metadata": {
  "kernelspec": {
   "display_name": "R",
   "language": "R",
   "name": "ir"
  },
  "language_info": {
   "codemirror_mode": "r",
   "file_extension": ".r",
   "mimetype": "text/x-r-source",
   "name": "R",
   "pygments_lexer": "r",
   "version": "3.6.1"
  }
 },
 "nbformat": 4,
 "nbformat_minor": 5
}
